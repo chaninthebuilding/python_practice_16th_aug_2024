{
  "nbformat": 4,
  "nbformat_minor": 0,
  "metadata": {
    "colab": {
      "provenance": [],
      "authorship_tag": "ABX9TyM5f7hqvFMlCjq8eP9HF2xC",
      "include_colab_link": true
    },
    "kernelspec": {
      "name": "python3",
      "display_name": "Python 3"
    },
    "language_info": {
      "name": "python"
    }
  },
  "cells": [
    {
      "cell_type": "markdown",
      "metadata": {
        "id": "view-in-github",
        "colab_type": "text"
      },
      "source": [
        "<a href=\"https://colab.research.google.com/github/chaninthebuilding/python_practice_16th_aug_2024/blob/main/aug20th2024.ipynb\" target=\"_parent\"><img src=\"https://colab.research.google.com/assets/colab-badge.svg\" alt=\"Open In Colab\"/></a>"
      ]
    },
    {
      "cell_type": "code",
      "execution_count": 3,
      "metadata": {
        "colab": {
          "base_uri": "https://localhost:8080/"
        },
        "id": "sPM3PAftLBfC",
        "outputId": "ef19d45c-e6ca-454a-cc47-ea7744a384cd"
      },
      "outputs": [
        {
          "output_type": "stream",
          "name": "stdout",
          "text": [
            "65\n",
            "A\n"
          ]
        }
      ],
      "source": [
        "print(ord('A'))\n",
        "print(chr(65))"
      ]
    },
    {
      "cell_type": "code",
      "source": [
        "#hcf of 2 numbers using eucledean algorithm\n",
        "def hcf(x,y):\n",
        "  while y:\n",
        "    x,y=y,x%y\n",
        "  return x\n",
        "print(hcf(200,300))"
      ],
      "metadata": {
        "colab": {
          "base_uri": "https://localhost:8080/"
        },
        "id": "YVIB7Z3ILNdu",
        "outputId": "0c90a8b2-2035-4c96-8b38-13e588c619fa"
      },
      "execution_count": 5,
      "outputs": [
        {
          "output_type": "stream",
          "name": "stdout",
          "text": [
            "100\n"
          ]
        }
      ]
    },
    {
      "cell_type": "code",
      "source": [
        "#hcf of 2 numbers using a function definition\n",
        "def hcffunc(x,y):\n",
        "  if x>y:\n",
        "    small=y\n",
        "  else:\n",
        "    small=x\n",
        "  for i in range(1,small+1):\n",
        "    if x%i==0 and y%i==0:\n",
        "      hcf=i\n",
        "  return hcf\n",
        "print(hcffunc(200,150))"
      ],
      "metadata": {
        "colab": {
          "base_uri": "https://localhost:8080/"
        },
        "id": "OmOR36A3QswB",
        "outputId": "6cf649eb-8f51-4a27-c3e7-b3210c045042"
      },
      "execution_count": 7,
      "outputs": [
        {
          "output_type": "stream",
          "name": "stdout",
          "text": [
            "50\n"
          ]
        }
      ]
    },
    {
      "cell_type": "code",
      "source": [
        "#program to find lcm of 2 numbers my own program which went wrong\n",
        "def lcm(x,y):\n",
        "  if x>y:\n",
        "    large=x\n",
        "  else:\n",
        "    large=y\n",
        "  for i in range(2,large+1):\n",
        "    if x%i==0 and y%i==0:\n",
        "      return i\n",
        "      break\n",
        "  if None:\n",
        "    return x*y\n",
        "print(lcm(200,500))#instead try the next program"
      ],
      "metadata": {
        "colab": {
          "base_uri": "https://localhost:8080/"
        },
        "id": "giagJ6dSRpNA",
        "outputId": "eb5a285b-1628-4828-abd5-f1f254c90f2f"
      },
      "execution_count": 23,
      "outputs": [
        {
          "output_type": "stream",
          "name": "stdout",
          "text": [
            "2\n"
          ]
        }
      ]
    },
    {
      "cell_type": "code",
      "source": [
        "#code from programiz which is correct\n",
        "def lcm(x,y):\n",
        "  if x>y:\n",
        "    large=x\n",
        "  else:\n",
        "    large=y\n",
        "  while True:\n",
        "    if large%x==0 and large%y==0:\n",
        "      lcm=large\n",
        "      break\n",
        "    large+=1\n",
        "  return lcm\n",
        "print(lcm(24,54))"
      ],
      "metadata": {
        "colab": {
          "base_uri": "https://localhost:8080/"
        },
        "id": "-g80KwmTWSwy",
        "outputId": "5dded391-fe04-4716-fa1a-f9170c48f932"
      },
      "execution_count": 31,
      "outputs": [
        {
          "output_type": "stream",
          "name": "stdout",
          "text": [
            "216\n"
          ]
        }
      ]
    },
    {
      "cell_type": "code",
      "source": [
        "#the same above program by dividing the product of the 2 numbers by the hcf of the 2 numbers\n",
        "def gcd(x,y):\n",
        "  x,y=y,x%y\n",
        "  return x\n",
        "def lcm(x,y):\n",
        "  lcm=x*y//gcd(x,y)\n",
        "  return lcm\n",
        "print(lcm(6,5))"
      ],
      "metadata": {
        "colab": {
          "base_uri": "https://localhost:8080/"
        },
        "id": "8TS6ZZr9ZSiM",
        "outputId": "4d9f6c0c-9b91-419b-d61e-49a5bb1526a9"
      },
      "execution_count": 33,
      "outputs": [
        {
          "output_type": "stream",
          "name": "stdout",
          "text": [
            "6\n"
          ]
        }
      ]
    }
  ]
}