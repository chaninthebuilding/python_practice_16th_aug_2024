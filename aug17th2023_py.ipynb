{
  "nbformat": 4,
  "nbformat_minor": 0,
  "metadata": {
    "colab": {
      "provenance": [],
      "authorship_tag": "ABX9TyNHFufvi3lFAIpX1IYZ2FdO",
      "include_colab_link": true
    },
    "kernelspec": {
      "name": "python3",
      "display_name": "Python 3"
    },
    "language_info": {
      "name": "python"
    }
  },
  "cells": [
    {
      "cell_type": "markdown",
      "metadata": {
        "id": "view-in-github",
        "colab_type": "text"
      },
      "source": [
        "<a href=\"https://colab.research.google.com/github/chaninthebuilding/python_practice_16th_aug_2024/blob/main/aug17th2023_py.ipynb\" target=\"_parent\"><img src=\"https://colab.research.google.com/assets/colab-badge.svg\" alt=\"Open In Colab\"/></a>"
      ]
    },
    {
      "cell_type": "code",
      "execution_count": null,
      "metadata": {
        "colab": {
          "base_uri": "https://localhost:8080/"
        },
        "id": "N_c-iVy4iZRe",
        "outputId": "766d9b1d-48bf-48e2-d510-79c7e35148bb"
      },
      "outputs": [
        {
          "output_type": "stream",
          "name": "stdout",
          "text": [
            "407\n",
            "Armstrong Number\n"
          ]
        }
      ],
      "source": [
        "#program to chack if a number is an armstrong number\n",
        "n=int(input())\n",
        "temp=n\n",
        "sum=0\n",
        "while temp>0:\n",
        "    digit=temp%10\n",
        "    sum+=digit**3\n",
        "    temp//=10\n",
        "    print(\"Armstrong Number\")\n",
        "else:\n",
        "    print(\"Not an Armstrong Number\")"
      ]
    },
    {
      "cell_type": "code",
      "source": [
        "#Python Program to Find Armstrong Number in an Interval\n",
        "l=400\n",
        "u=410\n",
        "for i in range(l,u+1):\n",
        "    temp=i\n",
        "    sum=0\n",
        "    while temp>0:\n",
        "        digit=temp%10\n",
        "        sum+=digit**3\n",
        "        temp//=10\n",
        "    if i==sum:\n",
        "        print(i)\n",
        "    else:\n",
        "        print(\"nah\")"
      ],
      "metadata": {
        "colab": {
          "base_uri": "https://localhost:8080/"
        },
        "id": "L_8lB1dAuqFR",
        "outputId": "fb1afef2-4455-4a22-a468-f534f877a760"
      },
      "execution_count": 4,
      "outputs": [
        {
          "output_type": "stream",
          "name": "stdout",
          "text": [
            "nah\n",
            "nah\n",
            "nah\n",
            "nah\n",
            "nah\n",
            "nah\n",
            "nah\n",
            "407\n",
            "nah\n",
            "nah\n",
            "nah\n"
          ]
        }
      ]
    },
    {
      "cell_type": "code",
      "source": [
        "#python program to find the sum of n natural numbers\n",
        "n=int(input())\n",
        "sum=0\n",
        "for i in range(n+1):\n",
        "  sum+=i\n",
        "print(sum)"
      ],
      "metadata": {
        "colab": {
          "base_uri": "https://localhost:8080/"
        },
        "id": "k_FPSh9bzSsE",
        "outputId": "d2998daf-9953-4838-bab0-fa9702c96191"
      },
      "execution_count": 6,
      "outputs": [
        {
          "output_type": "stream",
          "name": "stdout",
          "text": [
            "10\n",
            "55\n"
          ]
        }
      ]
    }
  ]
}