{
  "nbformat": 4,
  "nbformat_minor": 0,
  "metadata": {
    "colab": {
      "provenance": [],
      "authorship_tag": "ABX9TyNg1iQXxT7GOO3wPdz4forG",
      "include_colab_link": true
    },
    "kernelspec": {
      "name": "python3",
      "display_name": "Python 3"
    },
    "language_info": {
      "name": "python"
    }
  },
  "cells": [
    {
      "cell_type": "markdown",
      "metadata": {
        "id": "view-in-github",
        "colab_type": "text"
      },
      "source": [
        "<a href=\"https://colab.research.google.com/github/chaninthebuilding/python_practice_16th_aug_2024/blob/main/aug21st2024.ipynb\" target=\"_parent\"><img src=\"https://colab.research.google.com/assets/colab-badge.svg\" alt=\"Open In Colab\"/></a>"
      ]
    },
    {
      "cell_type": "code",
      "execution_count": 4,
      "metadata": {
        "colab": {
          "base_uri": "https://localhost:8080/"
        },
        "id": "7j8jwK9ox9FH",
        "outputId": "5c5da04a-4d93-4f97-a2a8-99f273985df8"
      },
      "outputs": [
        {
          "output_type": "stream",
          "name": "stdout",
          "text": [
            "100\n",
            "1\n",
            "2\n",
            "4\n",
            "5\n",
            "10\n",
            "20\n",
            "25\n",
            "50\n",
            "100\n"
          ]
        }
      ],
      "source": [
        "#program to find factors of a number\n",
        "n=int(input())\n",
        "i=1\n",
        "while i<=n:\n",
        "  if n%i==0:\n",
        "    print(i)\n",
        "  i+=1"
      ]
    },
    {
      "cell_type": "code",
      "source": [
        "def add(x,y):\n",
        "  return x+y\n",
        "def sub(x,y):\n",
        "  return x-y\n",
        "def mul(x,y):\n",
        "  return x*y\n",
        "def div(x,y):\n",
        "  return x/y\n",
        "print(\"1.Addition\")\n",
        "print(\"1.Subtraction\")\n",
        "print(\"1.Multiplication\")\n",
        "print(\"1.Division\")\n",
        "a=input(\"Enter your choice:\")\n",
        "if a in (\"1\",\"2\",\"3\",\"4\"):\n",
        "  try:\n",
        "    n1=int(input(\"Enter 1st number:\"))\n",
        "    n2=int(input(\"Enter 2st number:\"))\n",
        "  except ValueError:\n",
        "    print(\"Invalid input. Try again\")\n",
        "    continue\n",
        "  if a==\"1\":\n",
        "    print(add(n1,n2))\n",
        "  elif a==\"2\":\n",
        "    print(sub(n1,n2))\n",
        "  elif a==\"3\":\n",
        "    print(mul(n1,n2))\n",
        "  elif a==\"4\":\n",
        "    print(div(n1,n2))\n",
        "else:\n",
        "  print(\"Invalid input\")"
      ],
      "metadata": {
        "colab": {
          "base_uri": "https://localhost:8080/",
          "height": 193
        },
        "id": "sNupNdP206Xo",
        "outputId": "20180ab6-23b2-4f7e-e0a8-48081ffa5d65"
      },
      "execution_count": 6,
      "outputs": [
        {
          "name": "stdout",
          "output_type": "stream",
          "text": [
            "1.Addition\n",
            "1.Subtraction\n",
            "1.Multiplication\n",
            "1.Division\n",
            "Enter your choice:4\n"
          ]
        },
        {
          "output_type": "error",
          "ename": "SyntaxError",
          "evalue": "'continue' not properly in loop (<ipython-input-6-2bbab4881af7>, line 20)",
          "traceback": [
            "\u001b[0;36m  File \u001b[0;32m\"<ipython-input-6-2bbab4881af7>\"\u001b[0;36m, line \u001b[0;32m20\u001b[0m\n\u001b[0;31m    continue\u001b[0m\n\u001b[0m    ^\u001b[0m\n\u001b[0;31mSyntaxError\u001b[0m\u001b[0;31m:\u001b[0m 'continue' not properly in loop\n"
          ]
        }
      ]
    }
  ]
}